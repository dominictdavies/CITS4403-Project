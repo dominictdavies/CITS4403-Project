{
 "cells": [
  {
   "cell_type": "markdown",
   "id": "8f0ba00c-6492-4106-8b66-aa9dd31b168f",
   "metadata": {},
   "source": [
    "# CITS4403 Project\n",
    "## By Dominic Davies (23431003) and Jingwei Luo (23875736)"
   ]
  }
 ],
 "metadata": {
  "kernelspec": {
   "display_name": "Python 3 (ipykernel)",
   "language": "python",
   "name": "python3"
  },
  "language_info": {
   "codemirror_mode": {
    "name": "ipython",
    "version": 3
   },
   "file_extension": ".py",
   "mimetype": "text/x-python",
   "name": "python",
   "nbconvert_exporter": "python",
   "pygments_lexer": "ipython3",
   "version": "3.13.7"
  }
 },
 "nbformat": 4,
 "nbformat_minor": 5
}
